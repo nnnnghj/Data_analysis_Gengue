{
 "cells": [
  {
   "cell_type": "code",
   "execution_count": null,
   "metadata": {},
   "outputs": [],
   "source": [
    "# 导入必要的库\n",
    "import pandas as pd\n",
    "import numpy as np\n",
    "import matplotlib.pyplot as plt\n",
    "import seaborn as sns\n",
    "\n",
    "# 设置中文显示\n",
    "import matplotlib\n",
    "matplotlib.rcParams['font.sans-serif'] = ['SimHei']  # 指定默认字体\n",
    "matplotlib.rcParams['axes.unicode_minus'] = False  # 解决保存图像负号'-'显示为方块的问题\n",
    "\n",
    "# 导入数据\n",
    "file_path = 'ph_dengue_cases20162020.csv'\n",
    "df = pd.read_csv(file_path)\n",
    "\n",
    "# 查看数据基本结构\n",
    "print(\"数据基本信息：\")\n",
    "print(f\"数据行数: {df.shape[0]}\")\n",
    "print(f\"数据列数: {df.shape[1]}\")\n",
    "print(\"\\n列名：\", df.columns.tolist())\n",
    "\n",
    "# 查看前几行数据\n",
    "print(\"\\n前5行数据：\")\n",
    "print(df.head())\n",
    "\n",
    "# 检查数据类型\n",
    "print(\"\\n数据类型：\")\n",
    "print(df.dtypes)\n",
    "\n",
    "# 检查缺失值\n",
    "print(\"\\n缺失值统计：\")\n",
    "print(df.isnull().sum())\n",
    "\n",
    "# 查看基本统计信息\n",
    "print(\"\\n数值列统计：\")\n",
    "print(df.describe())"
   ]
  },
  {
   "cell_type": "code",
   "execution_count": null,
   "metadata": {},
   "outputs": [],
   "source": []
  }
 ],
 "metadata": {
  "language_info": {
   "name": "python"
  }
 },
 "nbformat": 4,
 "nbformat_minor": 2
}
